{
 "cells": [
  {
   "cell_type": "code",
   "execution_count": 19,
   "id": "4bb055db-82ca-4cd6-9271-31b560dbc19e",
   "metadata": {},
   "outputs": [
    {
     "name": "stdout",
     "output_type": "stream",
     "text": [
      "Welcome to my Library Management System\n",
      "\n",
      "                Pick:\n",
      "                1. To add a book\n",
      "                2. To display books \n",
      "                3. To search for a book\n",
      "                4. Delete a book\n",
      "                5. Exit\n",
      "        \n",
      "        \n"
     ]
    },
    {
     "name": "stdin",
     "output_type": "stream",
     "text": [
      "What would you like to do?  1\n",
      "Enter the title of the book:  The Spirit of Leadership\n",
      "Enter the author of the book:  Dr. Myles Munroe\n"
     ]
    },
    {
     "name": "stdout",
     "output_type": "stream",
     "text": [
      "\n",
      " The Spirit of Leadership written by Dr. Myles Munroe successfully\n"
     ]
    },
    {
     "name": "stdin",
     "output_type": "stream",
     "text": [
      "Would you like to do something else? Yes or No:  yes\n"
     ]
    },
    {
     "name": "stdout",
     "output_type": "stream",
     "text": [
      "\n",
      "                Pick:\n",
      "                1. To add a book\n",
      "                2. To display books \n",
      "                3. To search for a book\n",
      "                4. Delete a book\n",
      "                5. Exit\n",
      "        \n",
      "        \n"
     ]
    },
    {
     "name": "stdin",
     "output_type": "stream",
     "text": [
      "What would you like to do?  1\n",
      "Enter the title of the book:  The use of time \n",
      "Enter the author of the book:  Zachariah Tanee Fomum\n"
     ]
    },
    {
     "name": "stdout",
     "output_type": "stream",
     "text": [
      "\n",
      " The use of time  written by Zachariah Tanee Fomum successfully\n"
     ]
    },
    {
     "name": "stdin",
     "output_type": "stream",
     "text": [
      "Would you like to do something else? Yes or No:  yes\n"
     ]
    },
    {
     "name": "stdout",
     "output_type": "stream",
     "text": [
      "\n",
      "                Pick:\n",
      "                1. To add a book\n",
      "                2. To display books \n",
      "                3. To search for a book\n",
      "                4. Delete a book\n",
      "                5. Exit\n",
      "        \n",
      "        \n"
     ]
    },
    {
     "name": "stdin",
     "output_type": "stream",
     "text": [
      "What would you like to do?  1\n",
      "Enter the title of the book:  Goals\n",
      "Enter the author of the book:  Brian Tracy\n"
     ]
    },
    {
     "name": "stdout",
     "output_type": "stream",
     "text": [
      "\n",
      " Goals written by Brian Tracy successfully\n"
     ]
    },
    {
     "name": "stdin",
     "output_type": "stream",
     "text": [
      "Would you like to do something else? Yes or No:  yes\n"
     ]
    },
    {
     "name": "stdout",
     "output_type": "stream",
     "text": [
      "\n",
      "                Pick:\n",
      "                1. To add a book\n",
      "                2. To display books \n",
      "                3. To search for a book\n",
      "                4. Delete a book\n",
      "                5. Exit\n",
      "        \n",
      "        \n"
     ]
    },
    {
     "name": "stdin",
     "output_type": "stream",
     "text": [
      "What would you like to do?  1\n",
      "Enter the title of the book:  Good Morning, Holy spirit \n",
      "Enter the author of the book:  Bennny Hinn\n"
     ]
    },
    {
     "name": "stdout",
     "output_type": "stream",
     "text": [
      "\n",
      " Good Morning, Holy spirit  written by Bennny Hinn successfully\n"
     ]
    },
    {
     "name": "stdin",
     "output_type": "stream",
     "text": [
      "Would you like to do something else? Yes or No:  yes\n"
     ]
    },
    {
     "name": "stdout",
     "output_type": "stream",
     "text": [
      "\n",
      "                Pick:\n",
      "                1. To add a book\n",
      "                2. To display books \n",
      "                3. To search for a book\n",
      "                4. Delete a book\n",
      "                5. Exit\n",
      "        \n",
      "        \n"
     ]
    },
    {
     "name": "stdin",
     "output_type": "stream",
     "text": [
      "What would you like to do?  2\n"
     ]
    },
    {
     "name": "stdout",
     "output_type": "stream",
     "text": [
      "The list of books available are: \n",
      " \n",
      " 1. The Spirit of Leadership. Dr. Myles Munroe\n",
      " \n",
      " \n",
      " 2. The use of time . Zachariah Tanee Fomum\n",
      " \n",
      " \n",
      " 3. Goals. Brian Tracy\n",
      " \n",
      " \n",
      " 4. Good Morning, Holy spirit . Bennny Hinn\n",
      " \n"
     ]
    },
    {
     "name": "stdin",
     "output_type": "stream",
     "text": [
      "Would you like to do something else? Yes or No:  no\n"
     ]
    },
    {
     "name": "stdout",
     "output_type": "stream",
     "text": [
      "Goodbye!\n"
     ]
    }
   ],
   "source": [
    "# Creating the class book \n",
    "\n",
    "\n",
    "class Book:\n",
    "    def __init__(self, title, author):\n",
    "        self.title = title\n",
    "        self.author = author\n",
    "\n",
    "    # function to print out one book and it's auhtor\n",
    "    def __str__(self):\n",
    "        return f\"{self.title}. {self.author}\"\n",
    "\n",
    "\n",
    "\n",
    "# Creating the class Library\n",
    "class Library:\n",
    "    # Initialization of the value and to create a list to store the books added\n",
    "    def __init__(self):\n",
    "        self.books = []\n",
    "\n",
    "\n",
    "    # Function to add books\n",
    "    def add_books(self,book):        \n",
    "        self.books.append(book)\n",
    "        print(f\"\\n {book.title} written by {book.author} successfully\")\n",
    "\n",
    "\n",
    "    # Fucntion to display the books\n",
    "    def display_books(self):\n",
    "\n",
    "        if self.books:\n",
    "            print(\"The list of books available are: \")\n",
    "            for index, books in enumerate(self.books, start = 1):\n",
    "                print(f\" \\n {index}. {books}\\n \")\n",
    "        else:\n",
    "            print(\"No book found in Library\")\n",
    "\n",
    "\n",
    "    \n",
    "    # Functionto search for books\n",
    "    def search_books(self, book):\n",
    "        if self.books:\n",
    "            for searcher in self.books:\n",
    "                if searcher.title == book.title and searcher.author == book.author:\n",
    "                    print(f\"One book found {book.title} written by {book.author}\")\n",
    "                else:\n",
    "                    print(f\"{book.title} not found in library\")\n",
    "        else:\n",
    "            print(\"No book found in library\")\n",
    "            \n",
    "            \n",
    "\n",
    "    # Function to delete a book\n",
    "    def delete_book(self, book):\n",
    "        for stored_book in self.books:\n",
    "            if stored_book.title == book.title and stored_book.author == book.author:\n",
    "                self.books.remove(stored_book)\n",
    "                print(f\"{book.title} deleted successfully\")\n",
    "            return \n",
    "        print(f\"The book {book.title} written by {book.author} was not found in the library\")\n",
    "\n",
    "    \n",
    "        \n",
    "\n",
    "# function to repeat the process \n",
    "def repeat_process():\n",
    "    repeat = input(\"Would you like to do something else? Yes or No: \").strip().lower()\n",
    "    return repeat == \"yes\"\n",
    "\n",
    "\n",
    "#Creating the main function \n",
    "def main():\n",
    "    # Creating an instance of the class library \n",
    "    library = Library()\n",
    "    \n",
    "    print(\"Welcome to my Library Management System\")\n",
    "    while True:\n",
    "\n",
    "        \n",
    "        \n",
    "    \n",
    "        print(\"\"\"\n",
    "                Pick:\n",
    "                1. To add a book\n",
    "                2. To display books \n",
    "                3. To search for a book\n",
    "                4. Delete a book\n",
    "                5. Exit\n",
    "        \n",
    "        \"\"\")\n",
    "    \n",
    "        try:\n",
    "            choice = int(input(\"What would you like to do? \"))\n",
    "        except valueError:\n",
    "            print(\"Invalid input. please try again\")\n",
    "            continue\n",
    "\n",
    "        \n",
    "        if choice == 1:\n",
    "            title = input(\"Enter the title of the book: \")\n",
    "            author = input(\"Enter the author of the book: \")\n",
    "            book = Book(title, author)\n",
    "            library.add_books(book)\n",
    "            \n",
    "            \n",
    "        elif choice == 2:\n",
    "            library.display_books()\n",
    "             \n",
    "        elif choice == 3:\n",
    "            title = input(\"Enter the title of the book: \")\n",
    "            author = input(\"Enter the author of the book: \")\n",
    "            book = Book(title, author)\n",
    "            library.search_books(book)\n",
    "            \n",
    "        elif choice == 5:\n",
    "            print(\"Exiting program... Goodbye\")\n",
    "            break\n",
    "        elif choice == 4:\n",
    "            title = input(\"Enter the title of the book: \")\n",
    "            author = input(\"Enter the author of the book: \")\n",
    "            book = Book(title, author)\n",
    "            library.delete_book(book)\n",
    "\n",
    "        \n",
    "        # Check if the user wants to repeat the process\n",
    "        if not repeat_process():\n",
    "            print(\"Thank you for using our system /n Goodbye!\")\n",
    "            break\n",
    "            \n",
    "            \n",
    "        \n",
    "        \n",
    "\n",
    "\n",
    "\n",
    "if __name__ == \"__main__\":\n",
    "    main()\n"
   ]
  },
  {
   "cell_type": "code",
   "execution_count": null,
   "id": "a77c02d0-ab61-41fe-982d-d1b0940f98de",
   "metadata": {},
   "outputs": [],
   "source": [
    "\n"
   ]
  },
  {
   "cell_type": "code",
   "execution_count": null,
   "id": "011e67b0-3a8f-42e7-8de1-ed333292229b",
   "metadata": {},
   "outputs": [],
   "source": []
  }
 ],
 "metadata": {
  "kernelspec": {
   "display_name": "Python 3 (ipykernel)",
   "language": "python",
   "name": "python3"
  },
  "language_info": {
   "codemirror_mode": {
    "name": "ipython",
    "version": 3
   },
   "file_extension": ".py",
   "mimetype": "text/x-python",
   "name": "python",
   "nbconvert_exporter": "python",
   "pygments_lexer": "ipython3",
   "version": "3.11.7"
  }
 },
 "nbformat": 4,
 "nbformat_minor": 5
}
